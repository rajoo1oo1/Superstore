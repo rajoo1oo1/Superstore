{
  "nbformat": 4,
  "nbformat_minor": 0,
  "metadata": {
    "colab": {
      "provenance": []
    },
    "kernelspec": {
      "name": "python3",
      "display_name": "Python 3"
    },
    "language_info": {
      "name": "python"
    }
  },
  "cells": [
    {
      "cell_type": "markdown",
      "source": [
        "Exploratory Data Analysis ( EDA )"
      ],
      "metadata": {
        "id": "xwEcJsfVUnD1"
      }
    },
    {
      "cell_type": "code",
      "source": [
        "import pandas as pd\n",
        "df = pd.read_csv(\"/content/Cleaned_Superstore.csv\")"
      ],
      "metadata": {
        "id": "4NhOCBcqUwfj"
      },
      "execution_count": 9,
      "outputs": []
    },
    {
      "cell_type": "code",
      "source": [
        "# 1. Total Sales & Profit by Product Category and Region\n",
        "\n",
        "category_summary = df.groupby(\"Category\")[[\"Sales\", \"Profit\"]].sum()\n",
        "print(category_summary)\n",
        "\n",
        "region_summary = df.groupby(\"Region\")[[\"Sales\", \"Profit\"]].sum()\n",
        "print(\"\\nSales & Profit by Region:\\n\", region_summary)\n",
        "\n",
        "combined = df.groupby([\"Region\", \"Category\"])[[\"Sales\", \"Profit\"]].sum()\n",
        "print(\"\\nSales & Profit by Region and Category:\\n\", combined)\n"
      ],
      "metadata": {
        "colab": {
          "base_uri": "https://localhost:8080/"
        },
        "id": "rD8_aKikU2Yv",
        "outputId": "94bf4596-4b67-4565-ff88-b6247dc8e300"
      },
      "execution_count": 17,
      "outputs": [
        {
          "output_type": "stream",
          "name": "stdout",
          "text": [
            "                       Sales       Profit\n",
            "Category                                 \n",
            "Furniture        572132.6616    5007.1351\n",
            "Office Supplies  481148.8480   69189.2274\n",
            "Technology       687014.7520  124247.5728\n",
            "\n",
            "Sales & Profit by Region:\n",
            "                Sales      Profit\n",
            "Region                          \n",
            "Central  384437.1766  25616.8688\n",
            "East     536219.0050  67383.6908\n",
            "South    303250.0980  31938.8164\n",
            "West     516389.9820  73504.5593\n",
            "\n",
            "Sales & Profit by Region and Category:\n",
            "                                Sales      Profit\n",
            "Region  Category                                \n",
            "Central Furniture        134254.6106  -2796.9582\n",
            "        Office Supplies  117303.4760    186.7922\n",
            "        Technology       132879.0900  28227.0348\n",
            "East    Furniture        160017.7160  -1698.2425\n",
            "        Office Supplies  140510.4740  26115.6817\n",
            "        Technology       235690.8150  42966.2516\n",
            "South   Furniture         91103.5660   3779.5844\n",
            "        Office Supplies   84010.5240  11536.4125\n",
            "        Technology       128136.0080  16622.8195\n",
            "West    Furniture        186756.7690   5722.7514\n",
            "        Office Supplies  139324.3740  31350.3410\n",
            "        Technology       190308.8390  36431.4669\n"
          ]
        }
      ]
    },
    {
      "cell_type": "code",
      "source": [
        "# 2. Identify Top Customers by Revenue\n",
        "top_customers = df.groupby(\"Customer Name\")[[\"Sales\", \"Profit\"]].sum().sort_values(by=\"Sales\", ascending=False).head(10)\n",
        "print(\"\\nTop 10 Customers by Revenue:\\n\", top_customers)"
      ],
      "metadata": {
        "colab": {
          "base_uri": "https://localhost:8080/"
        },
        "id": "2Prn1VMdU9Yv",
        "outputId": "f3f97415-cdaf-4696-a29a-6c008f142507"
      },
      "execution_count": 13,
      "outputs": [
        {
          "output_type": "stream",
          "name": "stdout",
          "text": [
            "\n",
            "Top 10 Customers by Revenue:\n",
            "                         Sales     Profit\n",
            "Customer Name                           \n",
            "Sean Miller         24748.890 -2044.6754\n",
            "Tamara Chand        18759.976  8871.1488\n",
            "Raymond Buch        14263.840  6791.2284\n",
            "Tom Ashbrook        14015.800  4641.4180\n",
            "Hunter Lopez        12708.750  5569.6896\n",
            "Ken Lonsdale        12558.113   504.2341\n",
            "Adrian Barton       12308.775  5316.6555\n",
            "Sanjit Chand        12103.610  5487.5483\n",
            "Sanjit Engle        11480.486  2445.8752\n",
            "Christopher Conant  11387.696  2141.9649\n"
          ]
        }
      ]
    },
    {
      "cell_type": "code",
      "source": [
        "# 3. Monthly Sales Trends and Seasonality\n",
        "monthly_sales[\"Date\"] = pd.to_datetime(monthly_sales[\"Year\"].astype(str) + \"-\" + monthly_sales[\"Month\"].astype(str))\n"
      ],
      "metadata": {
        "id": "H-qvQSdPU_zP"
      },
      "execution_count": 15,
      "outputs": []
    },
    {
      "cell_type": "code",
      "execution_count": 16,
      "metadata": {
        "colab": {
          "base_uri": "https://localhost:8080/"
        },
        "id": "K4sk5zB0SU9u",
        "outputId": "9961cdf4-4cfd-47d1-edc1-76c324d27fbd"
      },
      "outputs": [
        {
          "output_type": "stream",
          "name": "stdout",
          "text": [
            "\n",
            "Profit by Sub-Category:\n",
            "                     Sales      Profit\n",
            "Sub-Category                         \n",
            "Copiers       148088.0780  55437.8309\n",
            "Phones        247246.3520  35208.0998\n",
            "Accessories   105853.7020  30636.3043\n",
            "Chairs        258650.4100  24207.5020\n",
            "Binders       166678.1240  23039.1982\n",
            "Storage       150516.1660  15756.2796\n",
            "Paper          31544.3860  14212.2374\n",
            "Appliances     79208.9320  12338.3308\n",
            "Furnishings    38866.5920   3231.5027\n",
            "Envelopes       7194.7400   3147.2928\n",
            "Machines      185826.6200   2965.3378\n",
            "Labels          4187.9580   1917.4721\n",
            "Art             3429.9040    816.0494\n",
            "Supplies       38388.6380  -2037.6329\n",
            "Bookcases      88081.8796  -4516.2323\n",
            "Tables        186533.7800 -17915.6373\n"
          ]
        }
      ],
      "source": [
        "# 4.Profitability by Sub-Category\n",
        "\n",
        "subcat = df.groupby(\"Sub-Category\")[[\"Sales\", \"Profit\"]].sum().sort_values(by=\"Profit\", ascending=False)\n",
        "print(\"\\nProfit by Sub-Category:\\n\", subcat)"
      ]
    }
  ]
}